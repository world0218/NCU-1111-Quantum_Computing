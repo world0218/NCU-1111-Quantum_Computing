{
 "cells": [
  {
   "cell_type": "code",
   "execution_count": 2,
   "id": "306c26d4-f47b-43b8-be58-84585bde6710",
   "metadata": {},
   "outputs": [
    {
     "data": {
      "text/html": [
       "<pre style=\"word-wrap: normal;white-space: pre;background: #fff0;line-height: 1.1;font-family: &quot;Courier New&quot;,Courier,monospace\">     ┌─┐      \n",
       "q_0: ┤M├──────\n",
       "     └╥┘┌─┐   \n",
       "q_1: ─╫─┤M├───\n",
       "      ║ └╥┘┌─┐\n",
       "q_2: ─╫──╫─┤M├\n",
       "      ║  ║ └╥┘\n",
       "c: 3/═╩══╩══╩═\n",
       "      0  1  2 </pre>"
      ],
      "text/plain": [
       "     ┌─┐      \n",
       "q_0: ┤M├──────\n",
       "     └╥┘┌─┐   \n",
       "q_1: ─╫─┤M├───\n",
       "      ║ └╥┘┌─┐\n",
       "q_2: ─╫──╫─┤M├\n",
       "      ║  ║ └╥┘\n",
       "c: 3/═╩══╩══╩═\n",
       "      0  1  2 "
      ]
     },
     "execution_count": 2,
     "metadata": {},
     "output_type": "execute_result"
    }
   ],
   "source": [
    "from qiskit import QuantumCircuit, IBMQ, execute\n",
    "from qiskit.providers.ibmq import least_busy\n",
    "from qiskit.tools.monitor import job_monitor\n",
    "\n",
    "qc = QuantumCircuit(3, 3)\n",
    "qc.measure([0,1,2], [0,1,2])\n",
    "qc.draw('text')"
   ]
  },
  {
   "cell_type": "code",
   "execution_count": null,
   "id": "27f1e2c9-3a30-478a-9e89-2d3896c02dbf",
   "metadata": {},
   "outputs": [],
   "source": [
    "#IBMQ.save_account('',overwrite=True)\n",
    "#IBMQ.load_account()"
   ]
  },
  {
   "cell_type": "code",
   "execution_count": 3,
   "id": "7dad61de-2468-4023-a29d-b570cb811e4d",
   "metadata": {},
   "outputs": [
    {
     "name": "stdout",
     "output_type": "stream",
     "text": [
      "<AccountProvider for IBMQ(hub='ibm-q', group='open', project='main')>\n",
      "The least busy quantum computer is ： ibmq_belem\n",
      "Job Status: job has successfully run\n",
      "Total counts for qubits states are ： {'000': 985, '001': 5, '010': 2, '100': 7, '110': 1}\n"
     ]
    }
   ],
   "source": [
    "provider = IBMQ.get_provider(group='open')\n",
    "print(provider)\n",
    "\n",
    "qcomp = least_busy(provider.backends(simulator=False))\n",
    "print(\"The least busy quantum computer is ：\", qcomp)\n",
    "\n",
    "job = execute(qc, backend=qcomp, shots=1000)\n",
    "job_monitor(job)\n",
    "result = job.result()\n",
    "counts = result.get_counts(qc)\n",
    "print(\"Total counts for qubits states are ：\", counts)"
   ]
  }
 ],
 "metadata": {
  "kernelspec": {
   "display_name": "Python 3 (ipykernel)",
   "language": "python",
   "name": "python3"
  },
  "language_info": {
   "codemirror_mode": {
    "name": "ipython",
    "version": 3
   },
   "file_extension": ".py",
   "mimetype": "text/x-python",
   "name": "python",
   "nbconvert_exporter": "python",
   "pygments_lexer": "ipython3",
   "version": "3.8.13"
  },
  "widgets": {
   "application/vnd.jupyter.widget-state+json": {
    "state": {
     "07e865a5d5b04e889b43e4319e8d3724": {
      "model_module": "@jupyter-widgets/base",
      "model_module_version": "1.2.0",
      "model_name": "LayoutModel",
      "state": {
       "overflow_x": "scroll"
      }
     },
     "1f4aa43d4b9b4ea88e31bfe4ac4a0318": {
      "model_module": "@jupyter-widgets/controls",
      "model_module_version": "1.5.0",
      "model_name": "HTMLModel",
      "state": {
       "layout": "IPY_MODEL_f44a342940394d11bafaa6ff9824760b",
       "style": "IPY_MODEL_c4574d85590547c0894ebc2d6398b2f7",
       "value": "<font style='color:#34BC6E'>DONE</font>"
      }
     },
     "1f6306bb25f94cb7bda9324039c5150a": {
      "model_module": "@jupyter-widgets/base",
      "model_module_version": "1.2.0",
      "model_name": "LayoutModel",
      "state": {
       "width": "95px"
      }
     },
     "2515a262307d435eb9a9529dfa0ef626": {
      "model_module": "@jupyter-widgets/controls",
      "model_module_version": "1.5.0",
      "model_name": "HTMLModel",
      "state": {
       "layout": "IPY_MODEL_4043af5277124cda90c2225fd042e465",
       "style": "IPY_MODEL_9ca2bf6dd6924a449896bd138ce33c7e",
       "value": "<h5>Message</h5>"
      }
     },
     "25e821d8d6f648e48e2d3322842e61c5": {
      "model_module": "@jupyter-widgets/controls",
      "model_module_version": "1.5.0",
      "model_name": "HTMLModel",
      "state": {
       "layout": "IPY_MODEL_1f6306bb25f94cb7bda9324039c5150a",
       "style": "IPY_MODEL_a7ff200fc076454abae5d36455c066ba",
       "value": "<h5>Status</h5>"
      }
     },
     "2b1c8681cf1a4ac3bc2e8ea7306cc0be": {
      "model_module": "@jupyter-widgets/base",
      "model_module_version": "1.2.0",
      "model_name": "LayoutModel",
      "state": {
       "width": "145px"
      }
     },
     "2e0b18706f464e688f65b6dfdb4c1014": {
      "model_module": "@jupyter-widgets/controls",
      "model_module_version": "1.5.0",
      "model_name": "DescriptionStyleModel",
      "state": {
       "description_width": ""
      }
     },
     "2fb424449bb24feda990e9b2da7eed87": {
      "model_module": "@jupyter-widgets/base",
      "model_module_version": "1.2.0",
      "model_name": "LayoutModel",
      "state": {
       "width": "190px"
      }
     },
     "32c27bb775cd4bdfb3905d05d7351d8f": {
      "model_module": "@jupyter-widgets/controls",
      "model_module_version": "1.5.0",
      "model_name": "DescriptionStyleModel",
      "state": {
       "description_width": ""
      }
     },
     "3337fcbb769543a1bb76ca2a0dbebf25": {
      "model_module": "@jupyter-widgets/base",
      "model_module_version": "1.2.0",
      "model_name": "LayoutModel",
      "state": {
       "width": "70px"
      }
     },
     "3e5fb4c949ca48d3bc7a64edd56e8b0d": {
      "model_module": "@jupyter-widgets/base",
      "model_module_version": "1.2.0",
      "model_name": "LayoutModel",
      "state": {
       "width": "145px"
      }
     },
     "4043af5277124cda90c2225fd042e465": {
      "model_module": "@jupyter-widgets/base",
      "model_module_version": "1.2.0",
      "model_name": "LayoutModel",
      "state": {}
     },
     "59c432bf0c774294997a11acccf16789": {
      "model_module": "@jupyter-widgets/controls",
      "model_module_version": "1.5.0",
      "model_name": "HTMLModel",
      "state": {
       "layout": "IPY_MODEL_d92e4001e8ab47608a39dff51d565495",
       "style": "IPY_MODEL_93eca391ad2c4a68b9d99c4362068aed",
       "value": "<p style='font-family: IBM Plex Sans, Arial, Helvetica, sans-serif; font-size: 20px; font-weight: medium;'>Circuit Properties</p>"
      }
     },
     "5e60d74d72a64f22b6ac95028945c7df": {
      "model_module": "@jupyter-widgets/base",
      "model_module_version": "1.2.0",
      "model_name": "LayoutModel",
      "state": {
       "margin": "0px 5px 0px 0px",
       "width": "32px"
      }
     },
     "686ac8796edb4fd1b916e87f304a3957": {
      "model_module": "@jupyter-widgets/controls",
      "model_module_version": "1.5.0",
      "model_name": "ButtonModel",
      "state": {
       "button_style": "primary",
       "description": "Clear",
       "layout": "IPY_MODEL_6fb471d107004ff78eb3fab17d668044",
       "style": "IPY_MODEL_9ab62cb9020841f084adc72412f35171"
      }
     },
     "6b0673cc1225450ba38c69cea33ffa25": {
      "model_module": "@jupyter-widgets/controls",
      "model_module_version": "1.5.0",
      "model_name": "HTMLModel",
      "state": {
       "layout": "IPY_MODEL_07e865a5d5b04e889b43e4319e8d3724",
       "style": "IPY_MODEL_8a53f534773a4197b1438b7927ca65be",
       "value": "job has successfully run"
      }
     },
     "6f2939b7c3dd4f5c8d40abbc75c2ae46": {
      "model_module": "@jupyter-widgets/controls",
      "model_module_version": "1.5.0",
      "model_name": "HBoxModel",
      "state": {
       "children": [
        "IPY_MODEL_f5c1df07c0a944f8bdeed8cf960bb50b",
        "IPY_MODEL_80b7364396f441ecb7ee550bea9602d5",
        "IPY_MODEL_9c3dc2f35f4c44b8a3be267b6cfc862f",
        "IPY_MODEL_1f4aa43d4b9b4ea88e31bfe4ac4a0318",
        "IPY_MODEL_7479718fe85d43f6a1a23eb4cdd7d455",
        "IPY_MODEL_6b0673cc1225450ba38c69cea33ffa25"
       ],
       "layout": "IPY_MODEL_851a4adca4c74f1fb446761776511938"
      }
     },
     "6fb471d107004ff78eb3fab17d668044": {
      "model_module": "@jupyter-widgets/base",
      "model_module_version": "1.2.0",
      "model_name": "LayoutModel",
      "state": {
       "grid_area": "right",
       "padding": "0px 0px 0px 0px",
       "width": "70px"
      }
     },
     "7479718fe85d43f6a1a23eb4cdd7d455": {
      "model_module": "@jupyter-widgets/controls",
      "model_module_version": "1.5.0",
      "model_name": "HTMLModel",
      "state": {
       "layout": "IPY_MODEL_3337fcbb769543a1bb76ca2a0dbebf25",
       "style": "IPY_MODEL_83e575658f52484f9a8b256b422dbb2c",
       "value": "-"
      }
     },
     "7dce78fa81734721b318a74aba112ea5": {
      "model_module": "@jupyter-widgets/controls",
      "model_module_version": "1.5.0",
      "model_name": "DescriptionStyleModel",
      "state": {
       "description_width": ""
      }
     },
     "80b7364396f441ecb7ee550bea9602d5": {
      "model_module": "@jupyter-widgets/controls",
      "model_module_version": "1.5.0",
      "model_name": "HTMLModel",
      "state": {
       "layout": "IPY_MODEL_2fb424449bb24feda990e9b2da7eed87",
       "style": "IPY_MODEL_2e0b18706f464e688f65b6dfdb4c1014",
       "value": "632abfc03eb5cf16e4bd415e"
      }
     },
     "825b68bfc0954cbf803f3f49385c906d": {
      "model_module": "@jupyter-widgets/base",
      "model_module_version": "1.2.0",
      "model_name": "LayoutModel",
      "state": {
       "width": "190px"
      }
     },
     "83e575658f52484f9a8b256b422dbb2c": {
      "model_module": "@jupyter-widgets/controls",
      "model_module_version": "1.5.0",
      "model_name": "DescriptionStyleModel",
      "state": {
       "description_width": ""
      }
     },
     "851a4adca4c74f1fb446761776511938": {
      "model_module": "@jupyter-widgets/base",
      "model_module_version": "1.2.0",
      "model_name": "LayoutModel",
      "state": {
       "max_width": "700px",
       "min_width": "700px"
      }
     },
     "86589139e295452fa93e89bb51cbdb31": {
      "model_module": "@jupyter-widgets/controls",
      "model_module_version": "1.5.0",
      "model_name": "GridBoxModel",
      "state": {
       "children": [
        "IPY_MODEL_686ac8796edb4fd1b916e87f304a3957"
       ],
       "layout": "IPY_MODEL_c23143a474c84aabbb547d28b6ae5e53"
      }
     },
     "8a53f534773a4197b1438b7927ca65be": {
      "model_module": "@jupyter-widgets/controls",
      "model_module_version": "1.5.0",
      "model_name": "DescriptionStyleModel",
      "state": {
       "description_width": ""
      }
     },
     "8ca89a79d36c49c191426bea90142ccb": {
      "model_module": "@jupyter-widgets/controls",
      "model_module_version": "1.5.0",
      "model_name": "ButtonStyleModel",
      "state": {
       "button_color": "white"
      }
     },
     "93eca391ad2c4a68b9d99c4362068aed": {
      "model_module": "@jupyter-widgets/controls",
      "model_module_version": "1.5.0",
      "model_name": "DescriptionStyleModel",
      "state": {
       "description_width": ""
      }
     },
     "9ab62cb9020841f084adc72412f35171": {
      "model_module": "@jupyter-widgets/controls",
      "model_module_version": "1.5.0",
      "model_name": "ButtonStyleModel",
      "state": {}
     },
     "9c3dc2f35f4c44b8a3be267b6cfc862f": {
      "model_module": "@jupyter-widgets/controls",
      "model_module_version": "1.5.0",
      "model_name": "HTMLModel",
      "state": {
       "layout": "IPY_MODEL_3e5fb4c949ca48d3bc7a64edd56e8b0d",
       "style": "IPY_MODEL_7dce78fa81734721b318a74aba112ea5",
       "value": "ibmq_belem"
      }
     },
     "9ca2bf6dd6924a449896bd138ce33c7e": {
      "model_module": "@jupyter-widgets/controls",
      "model_module_version": "1.5.0",
      "model_name": "DescriptionStyleModel",
      "state": {
       "description_width": ""
      }
     },
     "9f16d258a8754c25a589ba312d61041f": {
      "model_module": "@jupyter-widgets/controls",
      "model_module_version": "1.5.0",
      "model_name": "HTMLModel",
      "state": {
       "layout": "IPY_MODEL_825b68bfc0954cbf803f3f49385c906d",
       "style": "IPY_MODEL_32c27bb775cd4bdfb3905d05d7351d8f",
       "value": "<h5>Job ID</h5>"
      }
     },
     "a7ff200fc076454abae5d36455c066ba": {
      "model_module": "@jupyter-widgets/controls",
      "model_module_version": "1.5.0",
      "model_name": "DescriptionStyleModel",
      "state": {
       "description_width": ""
      }
     },
     "b19bf1bd42e54e31bb03642a70053f96": {
      "model_module": "@jupyter-widgets/controls",
      "model_module_version": "1.5.0",
      "model_name": "DescriptionStyleModel",
      "state": {
       "description_width": ""
      }
     },
     "b1dad49fd33441a6bddacf600296787f": {
      "model_module": "@jupyter-widgets/base",
      "model_module_version": "1.2.0",
      "model_name": "LayoutModel",
      "state": {
       "width": "70px"
      }
     },
     "bb92c5e0d18640ef81e4d084844cf0c0": {
      "model_module": "@jupyter-widgets/controls",
      "model_module_version": "1.5.0",
      "model_name": "HTMLModel",
      "state": {
       "layout": "IPY_MODEL_b1dad49fd33441a6bddacf600296787f",
       "style": "IPY_MODEL_bc30644e3c504cb9bcf31069986ce4ce",
       "value": "<h5>Queue</h5>"
      }
     },
     "bc30644e3c504cb9bcf31069986ce4ce": {
      "model_module": "@jupyter-widgets/controls",
      "model_module_version": "1.5.0",
      "model_name": "DescriptionStyleModel",
      "state": {
       "description_width": ""
      }
     },
     "c23143a474c84aabbb547d28b6ae5e53": {
      "model_module": "@jupyter-widgets/base",
      "model_module_version": "1.2.0",
      "model_name": "LayoutModel",
      "state": {
       "grid_template_areas": "\n                                       \". . . . right \"\n                                        ",
       "grid_template_columns": "20% 20% 20% 20% 20%",
       "width": "100%"
      }
     },
     "c4574d85590547c0894ebc2d6398b2f7": {
      "model_module": "@jupyter-widgets/controls",
      "model_module_version": "1.5.0",
      "model_name": "DescriptionStyleModel",
      "state": {
       "description_width": ""
      }
     },
     "d92e4001e8ab47608a39dff51d565495": {
      "model_module": "@jupyter-widgets/base",
      "model_module_version": "1.2.0",
      "model_name": "LayoutModel",
      "state": {
       "margin": "0px 0px 10px 0px"
      }
     },
     "e2e93bfd56e4490d8522b008a10b1a0c": {
      "model_module": "@jupyter-widgets/controls",
      "model_module_version": "1.5.0",
      "model_name": "HTMLModel",
      "state": {
       "layout": "IPY_MODEL_2b1c8681cf1a4ac3bc2e8ea7306cc0be",
       "style": "IPY_MODEL_b19bf1bd42e54e31bb03642a70053f96",
       "value": "<h5>Backend</h5>"
      }
     },
     "f44a342940394d11bafaa6ff9824760b": {
      "model_module": "@jupyter-widgets/base",
      "model_module_version": "1.2.0",
      "model_name": "LayoutModel",
      "state": {
       "width": "95px"
      }
     },
     "f5c1df07c0a944f8bdeed8cf960bb50b": {
      "model_module": "@jupyter-widgets/controls",
      "model_module_version": "1.5.0",
      "model_name": "ButtonModel",
      "state": {
       "icon": "close",
       "layout": "IPY_MODEL_5e60d74d72a64f22b6ac95028945c7df",
       "style": "IPY_MODEL_8ca89a79d36c49c191426bea90142ccb"
      }
     },
     "fa96eca40b06437b9e5d834e64366258": {
      "model_module": "@jupyter-widgets/controls",
      "model_module_version": "1.5.0",
      "model_name": "HBoxModel",
      "state": {
       "children": [
        "IPY_MODEL_9f16d258a8754c25a589ba312d61041f",
        "IPY_MODEL_e2e93bfd56e4490d8522b008a10b1a0c",
        "IPY_MODEL_25e821d8d6f648e48e2d3322842e61c5",
        "IPY_MODEL_bb92c5e0d18640ef81e4d084844cf0c0",
        "IPY_MODEL_2515a262307d435eb9a9529dfa0ef626"
       ],
       "layout": "IPY_MODEL_fe1c98781a7146b488212c2af554e626"
      }
     },
     "fe1c98781a7146b488212c2af554e626": {
      "model_module": "@jupyter-widgets/base",
      "model_module_version": "1.2.0",
      "model_name": "LayoutModel",
      "state": {
       "margin": "0px 0px 0px 37px",
       "width": "600px"
      }
     }
    },
    "version_major": 2,
    "version_minor": 0
   }
  }
 },
 "nbformat": 4,
 "nbformat_minor": 5
}
